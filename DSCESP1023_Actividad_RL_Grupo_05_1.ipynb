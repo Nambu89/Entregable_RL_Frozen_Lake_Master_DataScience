{
  "nbformat": 4,
  "nbformat_minor": 0,
  "metadata": {
    "colab": {
      "provenance": [],
      "toc_visible": true,
      "machine_shape": "hm",
      "gpuType": "A100",
      "include_colab_link": true
    },
    "kernelspec": {
      "name": "python3",
      "display_name": "Python 3"
    },
    "language_info": {
      "name": "python"
    },
    "accelerator": "GPU"
  },
  "cells": [
    {
      "cell_type": "markdown",
      "metadata": {
        "id": "view-in-github",
        "colab_type": "text"
      },
      "source": [
        "<a href=\"https://colab.research.google.com/github/Nambu89/Entregable_RL_Frozen_Lake_Master_DataScience/blob/main/DSCESP1023_Actividad_RL_Grupo_05_1.ipynb\" target=\"_parent\"><img src=\"https://colab.research.google.com/assets/colab-badge.svg\" alt=\"Open In Colab\"/></a>"
      ]
    },
    {
      "cell_type": "markdown",
      "source": [
        "# Módulo Deep Learning\n",
        "## Actividad 2: Reinforcement Learning: **Frozen lake problem**"
      ],
      "metadata": {
        "id": "3qMnOMrtnwtE"
      }
    },
    {
      "cell_type": "markdown",
      "source": [
        "Fernando Prada Gorgé\n",
        "\n",
        "Stefany Apolo\n",
        "\n",
        "Ana Belén Alcaide\n"
      ],
      "metadata": {
        "id": "J4d_Yp6jeevx"
      }
    },
    {
      "cell_type": "markdown",
      "source": [
        "# Actividad Reinforcemente Learning\n",
        "\n",
        "Resolver el problema del Frozen lake de OpenAI Gym. Documentación: https://www.gymlibrary.dev/environments/toy_text/frozen_lake/\n",
        "\n",
        "## Objetivos\n",
        "- Conseguir movermos aleatoriamente hasta cumplir el objetivo\n",
        "- Conseguir que el agente aprenda con Q-learning\n",
        "- (Opcional) Probar con otros hiperparámetros\n",
        "- (Opcional) Modificar la recompensa\n",
        "\n",
        "## Consideraciones\n",
        "- No hay penalizaciones\n",
        "- Si el agente cae en un \"hole\", entonces done = True y se queda atascado sin poder salir (al igual que ocurre cuando llega al \"goal\")\n",
        "\n",
        "## Normas a seguir\n",
        "\n",
        "- Se debe entregar un **ÚNICO GOOGLE COLAB notebook** (archivo .ipynb) que incluya las instrucciones presentes y su **EJECUCIÓN!!!**.\n",
        "- Poner el nombre del grupo en el nombre del archivo y el nombre de todos los integrantes del grupo al inicio del notebook.\n",
        "\n",
        "## Criterio de evaluación\n",
        "\n",
        "- Seguimiento de las normas establecidas en la actividad.\n",
        "- Corrección en el uso de algoritmos, modelos y formas idiomáticas en Python.\n",
        "- El código debe poder ejecutarse sin modificación alguna en Google Colaboratory."
      ],
      "metadata": {
        "id": "_ypTIoCpeiSW"
      }
    },
    {
      "cell_type": "markdown",
      "source": [
        "## **Instalamos librerías**"
      ],
      "metadata": {
        "id": "9Ly604VTn1ue"
      }
    },
    {
      "cell_type": "code",
      "execution_count": 1,
      "metadata": {
        "colab": {
          "base_uri": "https://localhost:8080/"
        },
        "id": "lXbvm0y9No4N",
        "outputId": "43e28513-e79f-4b21-c89e-a5a86cc0ec30"
      },
      "outputs": [
        {
          "output_type": "stream",
          "name": "stdout",
          "text": [
            "Collecting gym==0.17.3\n",
            "  Downloading gym-0.17.3.tar.gz (1.6 MB)\n",
            "\u001b[2K     \u001b[90m━━━━━━━━━━━━━━━━━━━━━━━━━━━━━━━━━━━━━━━━\u001b[0m \u001b[32m1.6/1.6 MB\u001b[0m \u001b[31m7.2 MB/s\u001b[0m eta \u001b[36m0:00:00\u001b[0m\n",
            "\u001b[?25h  Preparing metadata (setup.py) ... \u001b[?25l\u001b[?25hdone\n",
            "Requirement already satisfied: scipy in /usr/local/lib/python3.10/dist-packages (from gym==0.17.3) (1.11.4)\n",
            "Requirement already satisfied: numpy>=1.10.4 in /usr/local/lib/python3.10/dist-packages (from gym==0.17.3) (1.25.2)\n",
            "Collecting pyglet<=1.5.0,>=1.4.0 (from gym==0.17.3)\n",
            "  Downloading pyglet-1.5.0-py2.py3-none-any.whl (1.0 MB)\n",
            "\u001b[2K     \u001b[90m━━━━━━━━━━━━━━━━━━━━━━━━━━━━━━━━━━━━━━━━\u001b[0m \u001b[32m1.0/1.0 MB\u001b[0m \u001b[31m11.6 MB/s\u001b[0m eta \u001b[36m0:00:00\u001b[0m\n",
            "\u001b[?25hCollecting cloudpickle<1.7.0,>=1.2.0 (from gym==0.17.3)\n",
            "  Downloading cloudpickle-1.6.0-py3-none-any.whl (23 kB)\n",
            "Requirement already satisfied: future in /usr/local/lib/python3.10/dist-packages (from pyglet<=1.5.0,>=1.4.0->gym==0.17.3) (0.18.3)\n",
            "Building wheels for collected packages: gym\n",
            "  Building wheel for gym (setup.py) ... \u001b[?25l\u001b[?25hdone\n",
            "  Created wheel for gym: filename=gym-0.17.3-py3-none-any.whl size=1654618 sha256=6e1906f3b5cacd75337060ac96658518116c65b848181151b2aa3cac960f614e\n",
            "  Stored in directory: /root/.cache/pip/wheels/af/4b/74/fcfc8238472c34d7f96508a63c962ff3ac9485a9a4137afd4e\n",
            "Successfully built gym\n",
            "Installing collected packages: pyglet, cloudpickle, gym\n",
            "  Attempting uninstall: cloudpickle\n",
            "    Found existing installation: cloudpickle 2.2.1\n",
            "    Uninstalling cloudpickle-2.2.1:\n",
            "      Successfully uninstalled cloudpickle-2.2.1\n",
            "  Attempting uninstall: gym\n",
            "    Found existing installation: gym 0.25.2\n",
            "    Uninstalling gym-0.25.2:\n",
            "      Successfully uninstalled gym-0.25.2\n",
            "\u001b[31mERROR: pip's dependency resolver does not currently take into account all the packages that are installed. This behaviour is the source of the following dependency conflicts.\n",
            "bigframes 1.0.0 requires cloudpickle>=2.0.0, but you have cloudpickle 1.6.0 which is incompatible.\u001b[0m\u001b[31m\n",
            "\u001b[0mSuccessfully installed cloudpickle-1.6.0 gym-0.17.3 pyglet-1.5.0\n"
          ]
        }
      ],
      "source": [
        "!pip install gym==0.17.3"
      ]
    },
    {
      "cell_type": "code",
      "source": [
        "import gym\n",
        "import numpy as np\n",
        "from time import sleep\n",
        "from IPython.display import clear_output\n",
        "import random as rd\n",
        "import matplotlib.pyplot as plt\n",
        "import time\n",
        "import seaborn as sns"
      ],
      "metadata": {
        "id": "-aiKby2RNy-T"
      },
      "execution_count": 2,
      "outputs": []
    },
    {
      "cell_type": "markdown",
      "source": [
        "##**Definición del entorno**"
      ],
      "metadata": {
        "id": "shd3NqyQn9IO"
      }
    },
    {
      "cell_type": "code",
      "source": [
        "# Definimos el entorno\n",
        "env = gym.make('FrozenLake-v0', desc=None, map_name=\"4x4\", is_slippery=False)"
      ],
      "metadata": {
        "id": "1_3z3ZByoAcO"
      },
      "execution_count": 3,
      "outputs": []
    },
    {
      "cell_type": "code",
      "source": [
        "# Fijamos una semilla\n",
        "seed_value = 42\n",
        "env.seed(seed_value)\n",
        "np.random.seed(seed_value)"
      ],
      "metadata": {
        "id": "E_Nw22y00NEH"
      },
      "execution_count": 4,
      "outputs": []
    },
    {
      "cell_type": "code",
      "source": [
        "env.reset() # En este caso, empieza desde la misma posición inicial\n",
        "print(env.render())"
      ],
      "metadata": {
        "id": "fETKbHsBOGtB",
        "colab": {
          "base_uri": "https://localhost:8080/"
        },
        "outputId": "ae9ba94d-4070-49c2-8318-702a9466cae7"
      },
      "execution_count": 5,
      "outputs": [
        {
          "output_type": "stream",
          "name": "stdout",
          "text": [
            "\n",
            "\u001b[41mS\u001b[0mFFF\n",
            "FHFH\n",
            "FFFH\n",
            "HFFG\n",
            "None\n"
          ]
        }
      ]
    },
    {
      "cell_type": "markdown",
      "source": [
        "### **Rewards Schedule**:\n",
        "\n",
        "*   Reach goal (G): +1\n",
        "*   Reach hole (H): 0\n",
        "*   Reach frozen (F): 0"
      ],
      "metadata": {
        "id": "c_dAFt8ooq--"
      }
    },
    {
      "cell_type": "code",
      "source": [
        "print(\"Action Space {}\".format(env.action_space))\n",
        "print(\"State Space {}\".format(env.observation_space))"
      ],
      "metadata": {
        "colab": {
          "base_uri": "https://localhost:8080/"
        },
        "id": "x0p9Zxwz0UNs",
        "outputId": "0f61e762-4136-4edd-cd68-a186453bdb1f"
      },
      "execution_count": 6,
      "outputs": [
        {
          "output_type": "stream",
          "name": "stdout",
          "text": [
            "Action Space Discrete(4)\n",
            "State Space Discrete(16)\n"
          ]
        }
      ]
    },
    {
      "cell_type": "markdown",
      "source": [
        "Acciones posibles:\n",
        "* 0: izquierda\n",
        "* 1: abajo\n",
        "* 2: derecha\n",
        "* 3: arriba"
      ],
      "metadata": {
        "id": "JarMsz_-0YfL"
      }
    },
    {
      "cell_type": "code",
      "source": [
        "# Identificador de estado\n",
        "state = env.s\n",
        "print(\"State:\", state)"
      ],
      "metadata": {
        "colab": {
          "base_uri": "https://localhost:8080/"
        },
        "id": "Xyya51AU0shk",
        "outputId": "b9dbb880-7827-4841-f28d-89d8a900dcd0"
      },
      "execution_count": 7,
      "outputs": [
        {
          "output_type": "stream",
          "name": "stdout",
          "text": [
            "State: 0\n"
          ]
        }
      ]
    },
    {
      "cell_type": "markdown",
      "source": [
        "## **¡Nos movemos aleatoriamente!**"
      ],
      "metadata": {
        "id": "jAHw0ZBm1C1-"
      }
    },
    {
      "cell_type": "code",
      "source": [
        "steps = 0\n",
        "env.reset()\n",
        "env.render()"
      ],
      "metadata": {
        "colab": {
          "base_uri": "https://localhost:8080/"
        },
        "id": "itxDrfce3-x0",
        "outputId": "cf620577-55b9-4e9a-887a-767729075d20"
      },
      "execution_count": 8,
      "outputs": [
        {
          "output_type": "stream",
          "name": "stdout",
          "text": [
            "\n",
            "\u001b[41mS\u001b[0mFFF\n",
            "FHFH\n",
            "FFFH\n",
            "HFFG\n"
          ]
        }
      ]
    },
    {
      "cell_type": "code",
      "source": [
        "# Acciones: 0=izquierda, 1=abajo, 2=derecha, 3=arriba\n",
        "action = 1\n",
        "state, reward, done, info = env.step(action)\n",
        "\n",
        "print(\"State:\", state)\n",
        "print(state, reward, done, info)\n",
        "\n",
        "env.s = state\n",
        "env.render()\n",
        "\n",
        "steps += 1\n",
        "\n",
        "print(f\"Step: {steps}\")"
      ],
      "metadata": {
        "colab": {
          "base_uri": "https://localhost:8080/"
        },
        "id": "D5EoVvD61Gjb",
        "outputId": "a2d1e907-ff76-40ba-d9ff-fbf54d490807"
      },
      "execution_count": 9,
      "outputs": [
        {
          "output_type": "stream",
          "name": "stdout",
          "text": [
            "State: 4\n",
            "4 0.0 False {'prob': 1.0}\n",
            "  (Down)\n",
            "SFFF\n",
            "\u001b[41mF\u001b[0mHFH\n",
            "FFFH\n",
            "HFFG\n",
            "Step: 1\n"
          ]
        }
      ]
    },
    {
      "cell_type": "markdown",
      "source": [
        "### Podemos observar los valores predeterminados de recompensa asignados al estado:\n",
        "\n",
        "Por ejemplo, para el estado 14, su salida es un diccionario.\n",
        "\n",
        "Las claves del diccionario, 0, 1, 2, 3, corresponden a las acciones que podemos tomar desde el estado 14. Cada acción incluye una lista, donde cada elemento de la lista es una tupla que muestra la probabilidad de transición al estado siguiente, el estado siguiente, la recompensa y si se completa la acción (done=True si el estado siguiente es un Agujero o la Meta). Así, env.P es una lista que contiene todos los estados, donde cada estado incluye un diccionario que mapea todas las acciones posibles desde ese estado al siguiente, la probabilidad de transitar a ese estado siguiente, la recompensa y si el juego termina allí o no.\n",
        "\n",
        "Movimiento, probabilidad, recompensa, indicador."
      ],
      "metadata": {
        "id": "pAIdkT8XywvV"
      }
    },
    {
      "cell_type": "code",
      "source": [
        "env.P[14]"
      ],
      "metadata": {
        "colab": {
          "base_uri": "https://localhost:8080/"
        },
        "id": "siBHIjR0y0wj",
        "outputId": "a262fa1b-3a10-4649-a539-70d32aad3395"
      },
      "execution_count": 10,
      "outputs": [
        {
          "output_type": "execute_result",
          "data": {
            "text/plain": [
              "{0: [(1.0, 13, 0.0, False)],\n",
              " 1: [(1.0, 14, 0.0, False)],\n",
              " 2: [(1.0, 15, 1.0, True)],\n",
              " 3: [(1.0, 10, 0.0, False)]}"
            ]
          },
          "metadata": {},
          "execution_count": 10
        }
      ]
    },
    {
      "cell_type": "markdown",
      "source": [
        "### Porqué usamos Q-Learning en lugar de K-armed Bandit:\n",
        "\n",
        "\n",
        "\n",
        "*   **Naturaleza del Problema:**\n",
        "\n",
        "**Q-Learning:** Es un método de aprendizaje por refuerzo que está diseñado para problemas con estados y acciones claramente definidos, como el \"Frozen Lake\". Q-learning busca aprender una política de acciones que maximiza las recompensas totales futuras, considerando los estados actuales y las transiciones posibles.\n",
        "\n",
        "**K-armed Bandit:** Es un modelo más simple de aprendizaje por refuerzo que se utiliza típicamente en situaciones donde sólo se tiene que elegir entre varias opciones (o \"brazos\") sin tener en cuenta un estado ambiental. No se consideran las transiciones de estado ni la dinámica del entorno a lo largo del tiempo.\n",
        "\n",
        "* **Complejidad del Entorno:**\n",
        "\n",
        "En \"Frozen Lake\", el agente debe aprender no solo qué acciones tomar, sino también cómo las acciones afectan el cambio de un estado a otro bajo incertidumbre. Q-learning permite al agente aprender una política que optimiza las recompensas a largo plazo teniendo en cuenta la probabilidad de cada transición de estado.\n",
        "\n",
        "Los algoritmos de k-armed bandit, por otro lado, simplemente se centran en aprender cuál de las opciones disponibles ofrece, en promedio, la mejor recompensa. No están diseñados para aprender o manejar transiciones de estado complejas o la dinámica del entorno.\n",
        "\n",
        "* **Aplicabilidad:**\n",
        "\n",
        "Para problemas donde el contexto o el estado no influyen en la decisión, un algoritmo tipo k-armed bandit sería adecuado y más simple de implementar. Sin embargo, en un entorno dinámico y contextual como \"Frozen Lake\", donde las decisiones deben adaptarse en función de los estados cambiantes del entorno, Q-learning es mucho más efectivo.\n",
        "\n"
      ],
      "metadata": {
        "id": "-5K8BtQi4V_a"
      }
    },
    {
      "cell_type": "markdown",
      "source": [
        "### Aprendizaje sin usar Q-Learning"
      ],
      "metadata": {
        "id": "D-yItaGh6VdR"
      }
    },
    {
      "cell_type": "code",
      "source": [
        "class bcolors:\n",
        "    RED= '\\u001b[31m'\n",
        "    GREEN= '\\u001b[32m'\n",
        "    RESET= '\\u001b[0m'\n",
        "\n",
        "env.s = 0\n",
        "timestep, penalties, reward = 0, 0, 0\n",
        "done = False\n",
        "\n",
        "while reward == 0:\n",
        "\n",
        "    if done is True:\n",
        "        env.reset()\n",
        "\n",
        "    action = env.action_space.sample() # con \"sample\" elegimos una de las acciones del action_space\n",
        "    state, reward, done, info = env.step(action) # con \"step\" realizamos la acción elegida\n",
        "\n",
        "\n",
        "    if reward == 0:\n",
        "        penalties += 1\n",
        "\n",
        "    timestep += 1\n",
        "\n",
        "  # Print each step\n",
        "    clear_output(wait=True)\n",
        "    env.render()\n",
        "    print(\"\")\n",
        "    if reward < 0:\n",
        "        print(f\"Recompensa actual: {bcolors.RED}{reward}{bcolors.RESET}\")\n",
        "    else:\n",
        "        print(f\"Recompensa actual: {bcolors.GREEN}{reward}{bcolors.RESET}\")\n",
        "    print(\"\")\n",
        "    print('Estado actual', state)\n",
        "    sleep(0.05)\n",
        "\n",
        "\n",
        "print(\"Timesteps taken: {}\".format(timestep))\n",
        "print(\"Penalties incurred: {}\".format(penalties))"
      ],
      "metadata": {
        "colab": {
          "base_uri": "https://localhost:8080/"
        },
        "id": "lr4w0tLZ4a1D",
        "outputId": "79ec3be6-1730-43f7-e661-b105684f127e"
      },
      "execution_count": 11,
      "outputs": [
        {
          "output_type": "stream",
          "name": "stdout",
          "text": [
            "  (Right)\n",
            "SFFF\n",
            "FHFH\n",
            "FFFH\n",
            "HFF\u001b[41mG\u001b[0m\n",
            "\n",
            "Recompensa actual: \u001b[32m1.0\u001b[0m\n",
            "\n",
            "Estado actual 15\n",
            "Timesteps taken: 492\n",
            "Penalties incurred: 491\n"
          ]
        }
      ]
    },
    {
      "cell_type": "markdown",
      "source": [
        "### Ahora usamos Q-Learning:"
      ],
      "metadata": {
        "id": "c8XaZHnR7ChJ"
      }
    },
    {
      "cell_type": "code",
      "source": [
        "# Fijar la semilla para reproducibilidad\n",
        "np.random.seed(42)\n",
        "\n",
        "# Configuración del entorno\n",
        "env = gym.make('FrozenLake-v0', is_slippery=False)\n",
        "env.seed(42)  # Fijar semilla para el entorno\n",
        "\n",
        "# Hiperparámetros\n",
        "alpha = 0.1  # tasa de aprendizaje\n",
        "gamma = 0.9  # tasa de descuento, aumentada para dar más valor a las recompensas futuras\n",
        "epsilon = 1.0  # inicio con un epsilon alto para más exploración inicial\n",
        "min_epsilon = 0.01  # mínimo valor de epsilon\n",
        "decay_epsilon = 0.999  # tasa de decaimiento de epsilon por episodio\n",
        "episodes = 10000  # número total de episodios\n",
        "\n",
        "# Inicialización de la tabla Q\n",
        "q_table = np.zeros([env.observation_space.n, env.action_space.n])\n",
        "\n",
        "def greedy(epsilon, q_table, state):\n",
        "    if np.random.random() < epsilon:\n",
        "        return env.action_space.sample()  # Exploración: acción aleatoria\n",
        "    else:\n",
        "        return np.argmax(q_table[state])  # Explotación: mejor acción conocida\n",
        "\n",
        "# Registro de métricas\n",
        "all_timestep = []\n",
        "all_penalties = []\n",
        "\n",
        "# Bucle de entrenamiento\n",
        "for i in range(episodes):\n",
        "    state = env.reset()\n",
        "    timestep, penalties, reward = 0, 0, 0\n",
        "    done = False\n",
        "\n",
        "    while not done:\n",
        "        action = greedy(epsilon, q_table, state)\n",
        "        next_state, reward, done, info = env.step(action)\n",
        "\n",
        "        old_value = q_table[state, action]\n",
        "        next_max = np.max(q_table[next_state])\n",
        "\n",
        "        # Actualización del valor Q\n",
        "        q_table[state, action] = (1 - alpha) * old_value + alpha * (reward + gamma * next_max)\n",
        "\n",
        "        if reward == 0:\n",
        "            penalties += 1\n",
        "\n",
        "        state = next_state\n",
        "        timestep += 1\n",
        "\n",
        "    all_timestep.append(timestep)\n",
        "    all_penalties.append(penalties)\n",
        "\n",
        "    # Decaimiento de epsilon\n",
        "    if epsilon > min_epsilon:\n",
        "        epsilon *= decay_epsilon\n",
        "\n",
        "    if i % 100 == 0:\n",
        "        clear_output(wait=True)\n",
        "        print(f\"Episode: {i} - Epsilon: {epsilon:.4f}\")\n",
        "\n",
        "print(\"Training finished.\\n\")"
      ],
      "metadata": {
        "colab": {
          "base_uri": "https://localhost:8080/"
        },
        "id": "NyyTO7hW7HLM",
        "outputId": "542a4c53-0b7c-4849-d2eb-68032de5e93d"
      },
      "execution_count": 12,
      "outputs": [
        {
          "output_type": "stream",
          "name": "stdout",
          "text": [
            "Episode: 9900 - Epsilon: 0.0100\n",
            "Training finished.\n",
            "\n"
          ]
        }
      ]
    },
    {
      "cell_type": "markdown",
      "source": [
        "### Evaluación del agente:"
      ],
      "metadata": {
        "id": "Pyk5rl3u8Yya"
      }
    },
    {
      "cell_type": "code",
      "source": [
        "def evaluate_agent(env, q_table, episodes=100, verbose=True):\n",
        "    total_rewards = 0\n",
        "    total_steps = []  # Para almacenar los pasos necesarios por episodio\n",
        "\n",
        "    for _ in range(episodes):\n",
        "        state = env.reset()\n",
        "        done = False\n",
        "        steps = 0\n",
        "\n",
        "        while not done:\n",
        "            action = np.argmax(q_table[state])  # Siempre elegir la mejor acción\n",
        "            state, reward, done, info = env.step(action)\n",
        "            steps += 1\n",
        "            if done:\n",
        "                if reward == 1:\n",
        "                    total_rewards += 1\n",
        "                total_steps.append(steps)\n",
        "\n",
        "    success_rate = (total_rewards / episodes) * 100\n",
        "    average_steps = sum(total_steps) / len(total_steps) if total_steps else 0\n",
        "\n",
        "    if verbose:\n",
        "        print(f\"El agente resolvió el entorno {total_rewards} veces de {episodes} ({success_rate:.2f}% de éxito).\")\n",
        "        print(f\"Promedio de pasos para resolver: {average_steps:.2f}\")\n",
        "\n",
        "    return total_rewards, success_rate, average_steps\n",
        "\n",
        "# Evaluar el agente\n",
        "evaluate_agent(env, q_table)\n"
      ],
      "metadata": {
        "colab": {
          "base_uri": "https://localhost:8080/"
        },
        "id": "PkkmS-Ii8a66",
        "outputId": "1014a7b9-29d1-4a82-defc-0e3fef61cea4"
      },
      "execution_count": 13,
      "outputs": [
        {
          "output_type": "stream",
          "name": "stdout",
          "text": [
            "El agente resolvió el entorno 100 veces de 100 (100.00% de éxito).\n",
            "Promedio de pasos para resolver: 6.00\n"
          ]
        },
        {
          "output_type": "execute_result",
          "data": {
            "text/plain": [
              "(100, 100.0, 6.0)"
            ]
          },
          "metadata": {},
          "execution_count": 13
        }
      ]
    },
    {
      "cell_type": "markdown",
      "source": [
        "### Análisis de métricas:"
      ],
      "metadata": {
        "id": "0DA6-eQ-8i_L"
      }
    },
    {
      "cell_type": "code",
      "source": [
        "# Configuración de la visualización de las métricas\n",
        "plt.figure(figsize=(18, 6))\n",
        "\n",
        "# Gráfico para los pasos por episodio\n",
        "plt.subplot(131)\n",
        "plt.plot(all_timestep, color='blue')\n",
        "plt.title('Pasos por Episodio')\n",
        "plt.xlabel('Episodios')\n",
        "plt.ylabel('Pasos')\n",
        "plt.grid(True)\n",
        "\n",
        "# Gráfico para las penalizaciones por episodio\n",
        "plt.subplot(132)\n",
        "plt.plot(all_penalties, color='red')\n",
        "plt.title('Penalizaciones por Episodio')\n",
        "plt.xlabel('Episodios')\n",
        "plt.ylabel('Penalizaciones')\n",
        "plt.grid(True)\n",
        "\n",
        "# Heatmap de la tabla Q para visualizar cómo el agente valora las diferentes acciones desde cada estado\n",
        "plt.figure(figsize=(10, 10))\n",
        "sns.heatmap(q_table, annot=False, cmap=\"viridis\", cbar=True)\n",
        "plt.title('Mapa de Calor de la Tabla Q')\n",
        "plt.xlabel('Acciones')\n",
        "plt.ylabel('Estados')\n",
        "plt.show()"
      ],
      "metadata": {
        "colab": {
          "base_uri": "https://localhost:8080/",
          "height": 1000
        },
        "id": "NvX4llq_8lNh",
        "outputId": "b5ffeaec-09f2-4d9e-8e35-9d9fd845879f"
      },
      "execution_count": 14,
      "outputs": [
        {
          "output_type": "display_data",
          "data": {
            "text/plain": [
              "<Figure size 1800x600 with 2 Axes>"
            ],
            "image/png": "[encoded data removed]"
          },
          "metadata": {}
        },
        {
          "output_type": "display_data",
          "data": {
            "text/plain": [
              "<Figure size 1000x1000 with 2 Axes>"
            ],
            "image/png": "[encoded data removed]"
          },
          "metadata": {}
        }
      ]
    },
    {
      "cell_type": "markdown",
      "source": [
        "# Documentación y Reporte Final\n",
        "\n",
        "## Introducción\n",
        "\n",
        "El objetivo de este proyecto es desarrollar y evaluar un agente de aprendizaje por refuerzo que pueda navegar eficazmente por el entorno \"Frozen Lake\", proporcionado por OpenAI Gym. Este entorno simula un lago congelado donde el agente debe encontrar un camino seguro desde el punto de partida hasta la meta sin caer en agujeros. Este problema representa un desafío clásico en aprendizaje por refuerzo debido a su naturaleza estocástica y la necesidad de equilibrar la exploración con la explotación para lograr un aprendizaje efectivo.\n",
        "\n",
        "## Metodología\n",
        "\n",
        "El algoritmo utilizado en este proyecto es Q-learning, un método de aprendizaje libre de modelos que busca maximizar la suma de recompensas futuras descuentadas al aprender la función de valor óptima, Q. Esta función es actualizada iterativamente durante cada episodio de entrenamiento siguiendo la ecuación:\n",
        "\n",
        "\\[ Q(s, a) \\leftarrow Q(s, a) + \\alpha [R(s, a) + \\gamma \\max_{a'} Q(s', a') - Q(s, a)] \\]\n",
        "\n",
        "donde \\(s\\) es el estado actual, \\(a\\) es la acción tomada, \\(R(s, a)\\) es la recompensa recibida, \\(s'\\) es el estado siguiente, y \\(a'\\) son las posibles acciones en el estado siguiente. Los hiperparámetros utilizados incluyen:\n",
        "- **Tasa de aprendizaje (\\(\\alpha\\))**: 0.1\n",
        "- **Factor de descuento (\\(\\gamma\\))**: 0.9\n",
        "- **Estrategia de exploración (Epsilon-greedy)** con \\(\\epsilon\\) inicial de 1.0, decaimiento de 0.999 y un mínimo de 0.01.\n",
        "\n",
        "## Configuración Experimental\n",
        "\n",
        "El experimento fue realizado utilizando Python y la librería OpenAI Gym, que proporciona el entorno \"Frozen Lake\". Se estableció una configuración estocástica del entorno para simular condiciones realistas donde el agente puede deslizarse y caer en agujeros. Se realizaron 10,000 episodios de entrenamiento para permitir una adecuada convergencia de la política del agente.\n",
        "\n",
        "## Resultados\n",
        "\n",
        "A lo largo del entrenamiento, el agente mejoró gradualmente su capacidad para navegar por el lago hasta alcanzar un éxito consistente en encontrar la meta. El rendimiento del agente, medido en términos de la tasa de éxito y los pasos necesarios para alcanzar la meta, mostró una mejora significativa conforme progresaba el entrenamiento.\n",
        "\n",
        "## Análisis\n",
        "\n",
        "La visualización de la tabla Q a través de un mapa de calor indicó que el agente aprendió a valorar ciertas acciones más que otras en estados específicos, lo que sugiere una comprensión efectiva de las estrategias necesarias para navegar por el lago congelado. La política final del agente mostró una preferencia clara por caminos que maximizan la seguridad y la eficiencia.\n",
        "\n",
        "## Conclusiones\n",
        "\n",
        "El proyecto demostró la eficacia del algoritmo Q-learning en el aprendizaje de políticas óptimas en entornos estocásticos y desafiantes. Futuras direcciones para este trabajo podrían incluir la exploración de variantes de Q-learning, como Double Q-learning o Q-learning con aproximadores de función, para manejar mejor la incertidumbre y mejorar la generalización del aprendizaje del agente.\n",
        "\n",
        "## Referencias\n",
        "\n",
        "- Brockman, G., et al. (2016). OpenAI Gym. arXiv preprint arXiv:1606.01540.\n",
        "- Sutton, R. S., & Barto, A. G. (2018). Reinforcement Learning: An Introduction. MIT press.\n"
      ],
      "metadata": {
        "id": "59pHMoTkreMZ"
      }
    },
    {
      "cell_type": "code",
      "source": [],
      "metadata": {
        "id": "ai4xU1rlrfPB"
      },
      "execution_count": 14,
      "outputs": []
    }
  ]
}